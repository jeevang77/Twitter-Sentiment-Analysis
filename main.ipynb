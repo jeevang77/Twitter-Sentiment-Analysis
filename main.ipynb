{
 "cells": [
  {
   "cell_type": "code",
   "execution_count": null,
   "id": "b935c18c",
   "metadata": {},
   "outputs": [],
   "source": [
    "! pip install kaggle"
   ]
  },
  {
   "cell_type": "code",
   "execution_count": null,
   "id": "921d1a4e",
   "metadata": {},
   "outputs": [],
   "source": [
    "# Create .kaggle directory and copy the kaggle.json file\n",
    "! mkdir %USERPROFILE%\\.kaggle 2>nul\n",
    "! copy /Y kaggle.json %USERPROFILE%\\.kaggle\\"
   ]
  },
  {
   "cell_type": "code",
   "execution_count": null,
   "id": "5c6c2140",
   "metadata": {},
   "outputs": [],
   "source": [
    "! kaggle datasets download -d kazanova/sentiment140"
   ]
  },
  {
   "cell_type": "code",
   "execution_count": null,
   "id": "b39b3d3f",
   "metadata": {},
   "outputs": [],
   "source": [
    "from zipfile import ZipFile\n",
    "dataset= 'sentiment140.zip'\n",
    "\n",
    "with ZipFile (dataset, 'r')as zip:\n",
    "    zip.extractall()\n",
    "    print(\"done! the dataset  is extracted\")"
   ]
  },
  {
   "cell_type": "code",
   "execution_count": null,
   "id": "ecdc7068",
   "metadata": {},
   "outputs": [],
   "source": [
    "import pandas as pd\n",
    "import numpy as np\n",
    "import re\n",
    "from nltk.corpus import stopwords\n",
    "from nltk.stem.porter import PorterStemmer\n",
    "from sklearn.feature_extraction.text import TfidfVectorizer\n",
    "from sklearn.model_selection import train_test_split\n",
    "from sklearn.linear_model import LogisticRegression\n",
    "from sklearn.metrics import accuracy_score"
   ]
  },
  {
   "cell_type": "code",
   "execution_count": null,
   "id": "a5478805",
   "metadata": {},
   "outputs": [],
   "source": [
    "import nltk\n",
    "nltk.download('stopwords')"
   ]
  },
  {
   "cell_type": "code",
   "execution_count": null,
   "id": "fc3d2790",
   "metadata": {},
   "outputs": [],
   "source": [
    "print(stopwords.words('english'))"
   ]
  },
  {
   "cell_type": "code",
   "execution_count": null,
   "id": "2df75062",
   "metadata": {},
   "outputs": [],
   "source": [
    "twitter_data = pd.read_csv('twitter_data.csv', encoding= 'ISO-8859-1')"
   ]
  },
  {
   "cell_type": "code",
   "execution_count": null,
   "id": "f83d4c1b",
   "metadata": {},
   "outputs": [],
   "source": [
    "column_names = ['target', 'id', 'date', 'flag', 'user', 'text']\n",
    "twitter_data = pd.read_csv('twitter_data.csv', names=column_names, encoding= 'ISO-8859-1')"
   ]
  },
  {
   "cell_type": "code",
   "execution_count": null,
   "id": "a7c70ba0",
   "metadata": {},
   "outputs": [],
   "source": [
    "twitter_data.shape"
   ]
  },
  {
   "cell_type": "code",
   "execution_count": null,
   "id": "23fa1997",
   "metadata": {},
   "outputs": [],
   "source": [
    "# checking the missing values\n",
    "\n",
    "twitter_data.isnull().sum()"
   ]
  },
  {
   "cell_type": "code",
   "execution_count": null,
   "id": "89f9d912",
   "metadata": {},
   "outputs": [],
   "source": [
    "# checking the distribution of target column\n",
    "twitter_data['target'].value_counts()"
   ]
  },
  {
   "cell_type": "code",
   "execution_count": null,
   "id": "e43eb48f",
   "metadata": {},
   "outputs": [],
   "source": [
    "twitter_data.replace({'target':{4:1}}, inplace=True)\n",
    "twitter_data['target'].value_counts()"
   ]
  },
  {
   "cell_type": "markdown",
   "id": "cc84bc85",
   "metadata": {},
   "source": [
    "##  STEMMING"
   ]
  },
  {
   "cell_type": "code",
   "execution_count": null,
   "id": "a4676e6c",
   "metadata": {},
   "outputs": [],
   "source": [
    "port_stem = PorterStemmer()\n"
   ]
  },
  {
   "cell_type": "code",
   "execution_count": null,
   "id": "4ce0bdce",
   "metadata": {},
   "outputs": [],
   "source": [
    "def stemming(content):\n",
    "    stemmed_content = re.sub('[^a-zA-Z]', ' ', content)\n",
    "    stemmed_content = stemmed_content.lower()\n",
    "    stemmed_content = stemmed_content.split()\n",
    "    stemmed_content = [port_stem.stem(word) for word in stemmed_content if not word in stopwords.words('english')]\n",
    "    stemmed_content = ' '.join(stemmed_content)\n",
    "\n",
    "    \n",
    "    return stemmed_content"
   ]
  },
  {
   "cell_type": "code",
   "execution_count": null,
   "id": "1faacad6",
   "metadata": {},
   "outputs": [],
   "source": [
    "twitter_data['stemmed_content'] = twitter_data['text'].apply(stemming)"
   ]
  },
  {
   "cell_type": "code",
   "execution_count": null,
   "id": "403856fc",
   "metadata": {},
   "outputs": [],
   "source": [
    "twitter_data['target']"
   ]
  },
  {
   "cell_type": "code",
   "execution_count": null,
   "id": "357678ce",
   "metadata": {},
   "outputs": [],
   "source": [
    "# seperating data and label\n",
    "X = twitter_data['stemmed_content'].values\n",
    "Y = twitter_data['target'].values"
   ]
  },
  {
   "cell_type": "markdown",
   "id": "2882e5e1",
   "metadata": {},
   "source": [
    "### Splitting the data into training data and testing data\n"
   ]
  },
  {
   "cell_type": "code",
   "execution_count": null,
   "id": "e01610e6",
   "metadata": {},
   "outputs": [],
   "source": [
    "X_train, X_test, Y_train, Y_test = train_test_split(X, Y, test_size=0.2, stratify=Y, random_state=2)"
   ]
  },
  {
   "cell_type": "code",
   "execution_count": null,
   "id": "5049329e",
   "metadata": {},
   "outputs": [],
   "source": [
    "# converting the textual data to feature vectors\n",
    "vectorizer = TfidfVectorizer()\n",
    "X_train= vectorizer.fit_transform(X_train)\n",
    "X_test = vectorizer.transform(X_test)\n",
    " "
   ]
  },
  {
   "cell_type": "markdown",
   "id": "662840aa",
   "metadata": {},
   "source": [
    "### Training"
   ]
  },
  {
   "cell_type": "code",
   "execution_count": null,
   "id": "90dad5c9",
   "metadata": {},
   "outputs": [],
   "source": [
    "model= LogisticRegression(max_iter=1000)"
   ]
  },
  {
   "cell_type": "code",
   "execution_count": null,
   "id": "66e605d8",
   "metadata": {},
   "outputs": [],
   "source": [
    "model.fit(X_train, Y_train)"
   ]
  },
  {
   "cell_type": "markdown",
   "id": "794c4127",
   "metadata": {},
   "source": [
    "### Evaluation\n",
    "#### Accuracy Score"
   ]
  },
  {
   "cell_type": "code",
   "execution_count": null,
   "id": "b56671b5",
   "metadata": {},
   "outputs": [],
   "source": [
    "# Accuracy Score on training data\n",
    "\n",
    "X_train_prediction= model.predict(X_train)\n",
    "training_data_accuracy = accuracy_score(Y_train, X_train_prediction)"
   ]
  },
  {
   "cell_type": "code",
   "execution_count": null,
   "id": "16590916",
   "metadata": {},
   "outputs": [],
   "source": [
    "print('Accuracy score of training data : ', training_data_accuracy)"
   ]
  },
  {
   "cell_type": "code",
   "execution_count": null,
   "id": "15b5e4a2",
   "metadata": {},
   "outputs": [],
   "source": [
    "# Accuracy Score on test data\n",
    "\n",
    "X_test_prediction= model.predict(X_test)    \n",
    "test_data_accuracy = accuracy_score(Y_test, X_test_prediction)"
   ]
  },
  {
   "cell_type": "code",
   "execution_count": null,
   "id": "ceb2c26d",
   "metadata": {},
   "outputs": [],
   "source": [
    "print('Accuracy score of testing data : ', test_data_accuracy)"
   ]
  },
  {
   "cell_type": "code",
   "execution_count": null,
   "id": "31f9f9e7",
   "metadata": {},
   "outputs": [],
   "source": [
    "# Save model\n",
    "\n",
    "import pickle\n",
    "filename = 'trained_model.sav'\n",
    "pickle.dump(model, open(filename, 'wb'))"
   ]
  },
  {
   "cell_type": "code",
   "execution_count": null,
   "id": "36b5d7ea",
   "metadata": {},
   "outputs": [],
   "source": [
    "# Load the saved model\n",
    "\n",
    "loaded_model= pickle.load(open('trained_model.sav', 'rb'))"
   ]
  },
  {
   "cell_type": "code",
   "execution_count": null,
   "id": "762663a8",
   "metadata": {},
   "outputs": [],
   "source": [
    "X_new = X_test[3]\n",
    "print(Y_test[3])\n",
    "\n",
    "prediction = model.predict(X_new)\n",
    "print(prediction)\n",
    "\n",
    "if prediction[0] == 0:\n",
    "    print('Negative Tweet')\n",
    "\n",
    "else:\n",
    "    print('Positive Tweeet')"
   ]
  }
 ],
 "metadata": {
  "kernelspec": {
   "display_name": "base",
   "language": "python",
   "name": "python3"
  },
  "language_info": {
   "codemirror_mode": {
    "name": "ipython",
    "version": 3
   },
   "file_extension": ".py",
   "mimetype": "text/x-python",
   "name": "python",
   "nbconvert_exporter": "python",
   "pygments_lexer": "ipython3",
   "version": "3.13.5"
  }
 },
 "nbformat": 4,
 "nbformat_minor": 5
}
